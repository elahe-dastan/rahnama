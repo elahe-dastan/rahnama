{
  "nbformat": 4,
  "nbformat_minor": 0,
  "metadata": {
    "colab": {
      "name": "challange.ipynb",
      "provenance": [],
      "collapsed_sections": []
    },
    "kernelspec": {
      "name": "python3",
      "display_name": "Python 3"
    },
    "accelerator": "GPU"
  },
  "cells": [
    {
      "cell_type": "markdown",
      "metadata": {
        "id": "DSymNDsHL8x2"
      },
      "source": [
        "Before even looking at the dataset from the challenge description it's obvious that we are facing a fraud detection problem and most of the labels should be False so I guess this is the main difficulty to handle the unbalanced dataset cause I've never solved a fraud detection challange before."
      ]
    },
    {
      "cell_type": "markdown",
      "metadata": {
        "id": "suP-wEm-vyon"
      },
      "source": [
        "**UPLOADING DATA**:<br/>\n",
        "As far as I know there is no way to upload the dataset permanently to google colab and the best solution is to mount my google drive which was not secure so for now I decided to upload the dataset from my PC everytime.\n"
      ]
    },
    {
      "cell_type": "code",
      "metadata": {
        "colab": {
          "resources": {
            "http://localhost:8080/nbextensions/google.colab/files.js": {
              "data": "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",
              "ok": true,
              "headers": [
                [
                  "content-type",
                  "application/javascript"
                ]
              ],
              "status": 200,
              "status_text": ""
            }
          },
          "base_uri": "https://localhost:8080/",
          "height": 72
        },
        "id": "k5Pf5Mt4L4Sn",
        "outputId": "db1e8dcd-9c64-4b93-ee1e-cc27ab648589"
      },
      "source": [
        "from google.colab import files\n",
        "\n",
        "uploaded = files.upload()"
      ],
      "execution_count": null,
      "outputs": [
        {
          "output_type": "display_data",
          "data": {
            "text/html": [
              "\n",
              "     <input type=\"file\" id=\"files-8da7e7d9-e63f-4a1b-ac58-838c903cb5d8\" name=\"files[]\" multiple disabled\n",
              "        style=\"border:none\" />\n",
              "     <output id=\"result-8da7e7d9-e63f-4a1b-ac58-838c903cb5d8\">\n",
              "      Upload widget is only available when the cell has been executed in the\n",
              "      current browser session. Please rerun this cell to enable.\n",
              "      </output>\n",
              "      <script src=\"/nbextensions/google.colab/files.js\"></script> "
            ],
            "text/plain": [
              "<IPython.core.display.HTML object>"
            ]
          },
          "metadata": {
            "tags": []
          }
        },
        {
          "output_type": "stream",
          "text": [
            "Saving dataset.csv to dataset.csv\n"
          ],
          "name": "stdout"
        }
      ]
    },
    {
      "cell_type": "markdown",
      "metadata": {
        "id": "fl6ySA9kRNNr"
      },
      "source": [
        "We should know nothing about the test set so let's split our data to train and test and then we can take a look at the training dataset.\n"
      ]
    },
    {
      "cell_type": "code",
      "metadata": {
        "colab": {
          "base_uri": "https://localhost:8080/"
        },
        "id": "6vwBcU2oRI4X",
        "outputId": "a4601ce8-69a9-40f5-cedf-b3bddccb6bcf"
      },
      "source": [
        "import pandas as pd\n",
        "\n",
        "# show all columns while printing\n",
        "pd.set_option('max_columns', None)\n",
        "\n",
        "data = pd.read_csv(\"dataset.csv\")\n",
        "Y = data[\"isFraud\"]\n",
        "X = data.drop(columns=[\"isFraud\"])\n",
        "\n",
        "X.info()\n"
      ],
      "execution_count": null,
      "outputs": [
        {
          "output_type": "stream",
          "text": [
            "<class 'pandas.core.frame.DataFrame'>\n",
            "RangeIndex: 24855 entries, 0 to 24854\n",
            "Data columns (total 13 columns):\n",
            " #   Column                 Non-Null Count  Dtype  \n",
            "---  ------                 --------------  -----  \n",
            " 0   id                     24855 non-null  object \n",
            " 1   ProId                  24855 non-null  object \n",
            " 2   ProCreationTimestamp   24855 non-null  int64  \n",
            " 3   CustId                 24855 non-null  object \n",
            " 4   CustCreationTimestamp  24855 non-null  int64  \n",
            " 5   Rate                   24855 non-null  int64  \n",
            " 6   TaskCreationTimestamp  24855 non-null  int64  \n",
            " 7   Price                  18866 non-null  float64\n",
            " 8   ServiceId              24855 non-null  object \n",
            " 9   CategoryId             24855 non-null  object \n",
            " 10  ZoneId                 24855 non-null  object \n",
            " 11  TaskState              24855 non-null  object \n",
            " 12  TargetProId            2551 non-null   object \n",
            "dtypes: float64(1), int64(4), object(8)\n",
            "memory usage: 2.5+ MB\n"
          ],
          "name": "stdout"
        }
      ]
    },
    {
      "cell_type": "code",
      "metadata": {
        "colab": {
          "base_uri": "https://localhost:8080/"
        },
        "id": "t-6rnTecHCJZ",
        "outputId": "d3dd3298-2bc9-4fff-d2ae-d2933f382624"
      },
      "source": [
        "from sklearn.impute import SimpleImputer\n",
        "\n",
        "imputer = SimpleImputer(strategy='constant', fill_value=\"\")\n",
        "X[[\"TargetProId\"]] = imputer.fit_transform(X[[\"TargetProId\"]])\n",
        "X.info()"
      ],
      "execution_count": null,
      "outputs": [
        {
          "output_type": "stream",
          "text": [
            "<class 'pandas.core.frame.DataFrame'>\n",
            "RangeIndex: 24855 entries, 0 to 24854\n",
            "Data columns (total 13 columns):\n",
            " #   Column                 Non-Null Count  Dtype  \n",
            "---  ------                 --------------  -----  \n",
            " 0   id                     24855 non-null  object \n",
            " 1   ProId                  24855 non-null  object \n",
            " 2   ProCreationTimestamp   24855 non-null  int64  \n",
            " 3   CustId                 24855 non-null  object \n",
            " 4   CustCreationTimestamp  24855 non-null  int64  \n",
            " 5   Rate                   24855 non-null  int64  \n",
            " 6   TaskCreationTimestamp  24855 non-null  int64  \n",
            " 7   Price                  18866 non-null  float64\n",
            " 8   ServiceId              24855 non-null  object \n",
            " 9   CategoryId             24855 non-null  object \n",
            " 10  ZoneId                 24855 non-null  object \n",
            " 11  TaskState              24855 non-null  object \n",
            " 12  TargetProId            24855 non-null  object \n",
            "dtypes: float64(1), int64(4), object(8)\n",
            "memory usage: 2.5+ MB\n"
          ],
          "name": "stdout"
        }
      ]
    },
    {
      "cell_type": "markdown",
      "metadata": {
        "id": "fLIgkc_PBaZX"
      },
      "source": [
        "To change object columns to int, it's better to use **one hot encoder** for object columns but cause there will be so many features and we have  memory limit that's not possible as far as I know the best method is to use embedding So I wrote the below code but it didn't finish in a short time so unfortunateley I'll use ordinal encoder"
      ]
    },
    {
      "cell_type": "code",
      "metadata": {
        "id": "nfMqL2OFx63v"
      },
      "source": [
        "# from sklearn.preprocessing import OneHotEncoder\n",
        "# from sklearn.manifold import LocallyLinearEmbedding\n",
        "# import numpy as np\n",
        "\n",
        "# enc = OneHotEncoder()\n",
        "# a = enc.fit_transform(np.array(X[\"ProId\"]).reshape(-1, 1))\n",
        "\n",
        "# print(a.shape)\n",
        "\n",
        "# embedding = LocallyLinearEmbedding(n_components=4)\n",
        "# X_transformed = embedding.fit_transform(a.toarray())\n",
        "# transformed.shape\n"
      ],
      "execution_count": null,
      "outputs": []
    },
    {
      "cell_type": "markdown",
      "metadata": {
        "id": "BFXN8JpcB3MB"
      },
      "source": [
        "Here are two problems after taking a notice at the dataset, **Price** and **TargetProId** have null values and many columns have the data type object. Though TargetProId has so many null values I prefer to keep it cause it's an important feature. I use median instead of null values for price."
      ]
    },
    {
      "cell_type": "markdown",
      "metadata": {
        "id": "zdTdvvwxCFg9"
      },
      "source": [
        "The right thing to do is to create an object of **OrdinlaEncoder** and then use the fit_transform method of it for train dataset and just use its transform method on test dataset and to avoid error in case of unknown categories I put **handle_unknown** to **use_encoded_value** but apparantly this version of sickit that google colab is using doesn't support this argument so unfortunately I do this transformation on the whole dataset."
      ]
    },
    {
      "cell_type": "code",
      "metadata": {
        "colab": {
          "base_uri": "https://localhost:8080/"
        },
        "id": "kqiaFVcGBcVn",
        "outputId": "d4d0f8b6-fb14-46b1-a78f-efe288424e0d"
      },
      "source": [
        "from sklearn.compose import ColumnTransformer\n",
        "from sklearn.model_selection import train_test_split\n",
        "from sklearn.preprocessing import OrdinalEncoder\n",
        "\n",
        "pipeline = ColumnTransformer([\n",
        "               (\"string to num\", OrdinalEncoder(), [\"id\", \"ProId\", \"CustId\", \"ServiceId\", \"CategoryId\", \"ZoneId\", \"TaskState\", \"TargetProId\"]),\n",
        "])\n",
        "transformed = pipeline.fit_transform(X)\n",
        "X.loc[:, [\"id\",\n",
        "\"ProId\",\n",
        "\"CustId\", \n",
        "\"ServiceId\",\n",
        "\"CategoryId\", \n",
        "\"ZoneId\",\n",
        "\"TaskState\",\n",
        "\"TargetProId\"]] = transformed\n",
        "\n",
        "X.info()"
      ],
      "execution_count": null,
      "outputs": [
        {
          "output_type": "stream",
          "text": [
            "<class 'pandas.core.frame.DataFrame'>\n",
            "RangeIndex: 24855 entries, 0 to 24854\n",
            "Data columns (total 13 columns):\n",
            " #   Column                 Non-Null Count  Dtype  \n",
            "---  ------                 --------------  -----  \n",
            " 0   id                     24855 non-null  float64\n",
            " 1   ProId                  24855 non-null  float64\n",
            " 2   ProCreationTimestamp   24855 non-null  int64  \n",
            " 3   CustId                 24855 non-null  float64\n",
            " 4   CustCreationTimestamp  24855 non-null  int64  \n",
            " 5   Rate                   24855 non-null  int64  \n",
            " 6   TaskCreationTimestamp  24855 non-null  int64  \n",
            " 7   Price                  18866 non-null  float64\n",
            " 8   ServiceId              24855 non-null  float64\n",
            " 9   CategoryId             24855 non-null  float64\n",
            " 10  ZoneId                 24855 non-null  float64\n",
            " 11  TaskState              24855 non-null  float64\n",
            " 12  TargetProId            24855 non-null  float64\n",
            "dtypes: float64(9), int64(4)\n",
            "memory usage: 2.5 MB\n"
          ],
          "name": "stdout"
        }
      ]
    },
    {
      "cell_type": "code",
      "metadata": {
        "colab": {
          "base_uri": "https://localhost:8080/"
        },
        "id": "II2FkWlOCgma",
        "outputId": "e5c7b62f-3a0b-4243-efae-12705f108af6"
      },
      "source": [
        "X_train, X_test, Y_train, Y_test = train_test_split(X, Y, test_size=0.2)\n",
        "X_train.info()"
      ],
      "execution_count": null,
      "outputs": [
        {
          "output_type": "stream",
          "text": [
            "<class 'pandas.core.frame.DataFrame'>\n",
            "Int64Index: 19884 entries, 16083 to 13153\n",
            "Data columns (total 13 columns):\n",
            " #   Column                 Non-Null Count  Dtype  \n",
            "---  ------                 --------------  -----  \n",
            " 0   id                     19884 non-null  float64\n",
            " 1   ProId                  19884 non-null  float64\n",
            " 2   ProCreationTimestamp   19884 non-null  int64  \n",
            " 3   CustId                 19884 non-null  float64\n",
            " 4   CustCreationTimestamp  19884 non-null  int64  \n",
            " 5   Rate                   19884 non-null  int64  \n",
            " 6   TaskCreationTimestamp  19884 non-null  int64  \n",
            " 7   Price                  15064 non-null  float64\n",
            " 8   ServiceId              19884 non-null  float64\n",
            " 9   CategoryId             19884 non-null  float64\n",
            " 10  ZoneId                 19884 non-null  float64\n",
            " 11  TaskState              19884 non-null  float64\n",
            " 12  TargetProId            19884 non-null  float64\n",
            "dtypes: float64(9), int64(4)\n",
            "memory usage: 2.1 MB\n"
          ],
          "name": "stdout"
        }
      ]
    },
    {
      "cell_type": "markdown",
      "metadata": {
        "id": "2pt-8oarI0u2"
      },
      "source": [
        "I'll split the training data into 'fraud' and 'not fraud' then I'll put the median price of each category instead of the null values. For the test data which I'm not aware of the labels I'll use the median of the training data"
      ]
    },
    {
      "cell_type": "code",
      "metadata": {
        "colab": {
          "base_uri": "https://localhost:8080/"
        },
        "id": "-Lcll9-lOjRw",
        "outputId": "d580ec31-aa95-4418-da85-25372c92b049"
      },
      "source": [
        "import numpy as np\n",
        "\n",
        "# the warning here is redundant because it doesn't know where the X_test and\n",
        "# x_train are come from.\n",
        "pipeline = ColumnTransformer([\n",
        "               (\"null price to median\", SimpleImputer(strategy=\"median\"), [\"Price\"]),\n",
        "])\n",
        "\n",
        "X_train.loc[Y_train == True, [\"Price\"]] = pipeline.fit_transform(X_train[Y_train == True])\n",
        "X_train.loc[Y_train == False, [\"Price\"]] = pipeline.fit_transform(X_train[Y_train == False])\n",
        "\n",
        "X_test.loc[:, \"Price\"].fillna(X_train[\"Price\"].median(), inplace = True)\n",
        "\n",
        "print(X_train.info())"
      ],
      "execution_count": null,
      "outputs": [
        {
          "output_type": "stream",
          "text": [
            "<class 'pandas.core.frame.DataFrame'>\n",
            "Int64Index: 19884 entries, 16083 to 13153\n",
            "Data columns (total 13 columns):\n",
            " #   Column                 Non-Null Count  Dtype  \n",
            "---  ------                 --------------  -----  \n",
            " 0   id                     19884 non-null  float64\n",
            " 1   ProId                  19884 non-null  float64\n",
            " 2   ProCreationTimestamp   19884 non-null  int64  \n",
            " 3   CustId                 19884 non-null  float64\n",
            " 4   CustCreationTimestamp  19884 non-null  int64  \n",
            " 5   Rate                   19884 non-null  int64  \n",
            " 6   TaskCreationTimestamp  19884 non-null  int64  \n",
            " 7   Price                  19884 non-null  float64\n",
            " 8   ServiceId              19884 non-null  float64\n",
            " 9   CategoryId             19884 non-null  float64\n",
            " 10  ZoneId                 19884 non-null  float64\n",
            " 11  TaskState              19884 non-null  float64\n",
            " 12  TargetProId            19884 non-null  float64\n",
            "dtypes: float64(9), int64(4)\n",
            "memory usage: 2.1 MB\n",
            "None\n"
          ],
          "name": "stdout"
        },
        {
          "output_type": "stream",
          "text": [
            "/usr/local/lib/python3.7/dist-packages/pandas/core/indexing.py:1734: SettingWithCopyWarning: \n",
            "A value is trying to be set on a copy of a slice from a DataFrame.\n",
            "Try using .loc[row_indexer,col_indexer] = value instead\n",
            "\n",
            "See the caveats in the documentation: https://pandas.pydata.org/pandas-docs/stable/user_guide/indexing.html#returning-a-view-versus-a-copy\n",
            "  isetter(loc, value[:, i].tolist())\n",
            "/usr/local/lib/python3.7/dist-packages/pandas/core/indexing.py:1734: SettingWithCopyWarning: \n",
            "A value is trying to be set on a copy of a slice from a DataFrame.\n",
            "Try using .loc[row_indexer,col_indexer] = value instead\n",
            "\n",
            "See the caveats in the documentation: https://pandas.pydata.org/pandas-docs/stable/user_guide/indexing.html#returning-a-view-versus-a-copy\n",
            "  isetter(loc, value[:, i].tolist())\n",
            "/usr/local/lib/python3.7/dist-packages/pandas/core/series.py:4536: SettingWithCopyWarning: \n",
            "A value is trying to be set on a copy of a slice from a DataFrame\n",
            "\n",
            "See the caveats in the documentation: https://pandas.pydata.org/pandas-docs/stable/user_guide/indexing.html#returning-a-view-versus-a-copy\n",
            "  downcast=downcast,\n"
          ],
          "name": "stderr"
        }
      ]
    },
    {
      "cell_type": "markdown",
      "metadata": {
        "id": "IqGHMj6DQBEc"
      },
      "source": [
        "Now we don't have null values anymore and each column data type is numeric but it's better to take a deeper look"
      ]
    },
    {
      "cell_type": "code",
      "metadata": {
        "colab": {
          "base_uri": "https://localhost:8080/"
        },
        "id": "KKGN8QH0xwAV",
        "outputId": "1496369b-e51c-4ab3-d37e-4254dbac014e"
      },
      "source": [
        "print(data.corr())"
      ],
      "execution_count": null,
      "outputs": [
        {
          "output_type": "stream",
          "text": [
            "                       ProCreationTimestamp  CustCreationTimestamp      Rate  \\\n",
            "ProCreationTimestamp               1.000000               0.617041  0.046955   \n",
            "CustCreationTimestamp              0.617041               1.000000  0.046121   \n",
            "Rate                               0.046955               0.046121  1.000000   \n",
            "TaskCreationTimestamp              0.683909               0.830052  0.023415   \n",
            "Price                              0.025314               0.007409 -0.011246   \n",
            "isFraud                            0.098349               0.056974  0.044544   \n",
            "\n",
            "                       TaskCreationTimestamp     Price   isFraud  \n",
            "ProCreationTimestamp                0.683909  0.025314  0.098349  \n",
            "CustCreationTimestamp               0.830052  0.007409  0.056974  \n",
            "Rate                                0.023415 -0.011246  0.044544  \n",
            "TaskCreationTimestamp               1.000000  0.017791  0.042904  \n",
            "Price                               0.017791  1.000000  0.058844  \n",
            "isFraud                             0.042904  0.058844  1.000000  \n"
          ],
          "name": "stdout"
        }
      ]
    },
    {
      "cell_type": "markdown",
      "metadata": {
        "id": "IR7FxepUG5zv"
      },
      "source": [
        "CustCreationTimestamp and TaskCreationTimestamp have the correlation of 0.8 so I prefer to drop one of them."
      ]
    },
    {
      "cell_type": "code",
      "metadata": {
        "id": "JsEmzHQsILjp"
      },
      "source": [
        "X_train = X_train.drop(\"TaskCreationTimestamp\", axis=1)\n",
        "X_test = X_test.drop(\"TaskCreationTimestamp\", axis=1)"
      ],
      "execution_count": null,
      "outputs": []
    },
    {
      "cell_type": "markdown",
      "metadata": {
        "id": "K-wb8MF6Jd8Z"
      },
      "source": [
        "Another point to mention is that the range of each feature varies from others, it may cause trouble so we need to scale them."
      ]
    },
    {
      "cell_type": "code",
      "metadata": {
        "id": "odSF4AIgJ1bm"
      },
      "source": [
        "from sklearn.preprocessing import StandardScaler\n",
        "from sklearn.pipeline import Pipeline\n",
        "\n",
        "# removes the mean and scales it to unit variance\n",
        "pipeline = Pipeline([\n",
        "    (\"scaler\", StandardScaler()),\n",
        "])\n",
        "\n",
        "X_train = pipeline.fit_transform(X_train)\n",
        "X_test = pipeline.transform(X_test)\n"
      ],
      "execution_count": null,
      "outputs": []
    },
    {
      "cell_type": "markdown",
      "metadata": {
        "id": "0VWKdIwMI3s4"
      },
      "source": [
        "Now I think the dataset is almost ready to work with but it's better to have some visualization before starting, the dataset has many features and I cannot visualize more than two dimentions so I use two of them each time for visualizing."
      ]
    },
    {
      "cell_type": "code",
      "metadata": {
        "id": "o-RjAQcyJbIE"
      },
      "source": [
        "import matplotlib.pyplot as plt\n",
        "\n",
        "f = X_train[Y_train == False]\n",
        "t = X_train[Y_train]"
      ],
      "execution_count": null,
      "outputs": []
    },
    {
      "cell_type": "markdown",
      "metadata": {
        "id": "5mdWrqYFZhc8"
      },
      "source": [
        "I'll use \"id\" as axis x cause it's unique for every data point and other columns as axis y "
      ]
    },
    {
      "cell_type": "code",
      "metadata": {
        "colab": {
          "base_uri": "https://localhost:8080/",
          "height": 265
        },
        "id": "3p_pgGkwVy3Q",
        "outputId": "51cbca80-fec8-4de8-b4c2-d5b5c46d2577"
      },
      "source": [
        "# 0 stands for id and 1 stands for ProId\n",
        "plt.scatter(f[:, 0], f[:, 1], c=\"blue\")\n",
        "plt.scatter(t[:, 0], t[:, 1], c=\"red\")\n",
        "plt.show()"
      ],
      "execution_count": null,
      "outputs": [
        {
          "output_type": "display_data",
          "data": {
            "image/png": "[encoded data removed]",
            "text/plain": [
              "<Figure size 432x288 with 1 Axes>"
            ]
          },
          "metadata": {
            "tags": [],
            "needs_background": "light"
          }
        }
      ]
    },
    {
      "cell_type": "markdown",
      "metadata": {
        "id": "nR5Nvw2NalLa"
      },
      "source": [
        "From the plot I guess ProId makes no improvement in our accuracy"
      ]
    },
    {
      "cell_type": "code",
      "metadata": {
        "colab": {
          "base_uri": "https://localhost:8080/",
          "height": 265
        },
        "id": "2HxnJnP2a1by",
        "outputId": "ca10f5ff-b098-4652-b68f-89de942f010f"
      },
      "source": [
        "# 0 stands for id and 2 stands for ProCreationTimestamp\n",
        "plt.scatter(f[:, 0], f[:, 2], c=\"blue\")\n",
        "plt.scatter(t[:, 0], t[:, 2], c=\"red\")\n",
        "plt.show()"
      ],
      "execution_count": null,
      "outputs": [
        {
          "output_type": "display_data",
          "data": {
            "image/png": "[encoded data removed]",
            "text/plain": [
              "<Figure size 432x288 with 1 Axes>"
            ]
          },
          "metadata": {
            "tags": [],
            "needs_background": "light"
          }
        }
      ]
    },
    {
      "cell_type": "markdown",
      "metadata": {
        "id": "f2dJ1ogpbR19"
      },
      "source": [
        "It seems that frauds have been more frequent through time"
      ]
    },
    {
      "cell_type": "code",
      "metadata": {
        "colab": {
          "base_uri": "https://localhost:8080/",
          "height": 265
        },
        "id": "0-QvtCLza3mQ",
        "outputId": "ac911994-c9ae-49ba-ea28-9b718f3f6c02"
      },
      "source": [
        "# 0 stands for id and 3 stands for CustId\n",
        "plt.scatter(f[:, 0], f[:, 3], c=\"blue\")\n",
        "plt.scatter(t[:, 0], t[:, 3], c=\"red\")\n",
        "plt.show()"
      ],
      "execution_count": null,
      "outputs": [
        {
          "output_type": "display_data",
          "data": {
            "image/png": "[encoded data removed]",
            "text/plain": [
              "<Figure size 432x288 with 1 Axes>"
            ]
          },
          "metadata": {
            "tags": [],
            "needs_background": "light"
          }
        }
      ]
    },
    {
      "cell_type": "markdown",
      "metadata": {
        "id": "b6G17urkbtVN"
      },
      "source": [
        "From the plot I guess CustId makes no improvement in our accuracy"
      ]
    },
    {
      "cell_type": "code",
      "metadata": {
        "colab": {
          "base_uri": "https://localhost:8080/",
          "height": 265
        },
        "id": "eoCkCwBOa5RC",
        "outputId": "3b54dde2-7422-4e73-841d-66393d9ebc92"
      },
      "source": [
        "# 0 stands for id and 4 stands for CustCreationTimestamp\n",
        "plt.scatter(f[:, 0], f[:, 4], c=\"blue\")\n",
        "plt.scatter(t[:, 0], t[:, 4], c=\"red\")\n",
        "plt.show()"
      ],
      "execution_count": null,
      "outputs": [
        {
          "output_type": "display_data",
          "data": {
            "image/png": "[encoded data removed]",
            "text/plain": [
              "<Figure size 432x288 with 1 Axes>"
            ]
          },
          "metadata": {
            "tags": [],
            "needs_background": "light"
          }
        }
      ]
    },
    {
      "cell_type": "markdown",
      "metadata": {
        "id": "lgLiBFd0cwCE"
      },
      "source": [
        "It seems that frauds have been more frequent through time"
      ]
    },
    {
      "cell_type": "code",
      "metadata": {
        "colab": {
          "base_uri": "https://localhost:8080/",
          "height": 265
        },
        "id": "J2lucIJta7EF",
        "outputId": "0247c344-048f-41ed-fa05-d60850610a08"
      },
      "source": [
        "# 0 stands for id and 5 stands for Rate\n",
        "plt.scatter(f[:, 0], f[:, 5], c=\"blue\")\n",
        "plt.scatter(t[:, 0], t[:, 5], c=\"red\")\n",
        "plt.show()"
      ],
      "execution_count": null,
      "outputs": [
        {
          "output_type": "display_data",
          "data": {
            "image/png": "[encoded data removed]",
            "text/plain": [
              "<Figure size 432x288 with 1 Axes>"
            ]
          },
          "metadata": {
            "tags": [],
            "needs_background": "light"
          }
        }
      ]
    },
    {
      "cell_type": "markdown",
      "metadata": {
        "id": "UAv2cmvFdc2R"
      },
      "source": [
        "As expected the fraud rates should be high rates but the plot in addition to high rates shows really low rates as fruad too :||"
      ]
    },
    {
      "cell_type": "code",
      "metadata": {
        "colab": {
          "base_uri": "https://localhost:8080/",
          "height": 265
        },
        "id": "vM47NHpja80l",
        "outputId": "b0a8eb74-157e-4de1-f76d-0fca9c04698c"
      },
      "source": [
        "# 0 stands for id and 6 stands for Price\n",
        "plt.scatter(f[:, 0], f[:, 6], c=\"blue\")\n",
        "plt.scatter(t[:, 0], t[:, 6], c=\"red\")\n",
        "plt.show()"
      ],
      "execution_count": null,
      "outputs": [
        {
          "output_type": "display_data",
          "data": {
            "image/png": "[encoded data removed]",
            "text/plain": [
              "<Figure size 432x288 with 1 Axes>"
            ]
          },
          "metadata": {
            "tags": [],
            "needs_background": "light"
          }
        }
      ]
    },
    {
      "cell_type": "markdown",
      "metadata": {
        "id": "aQTgjNk5d6d_"
      },
      "source": [
        "It seems that frauds have lower price"
      ]
    },
    {
      "cell_type": "code",
      "metadata": {
        "colab": {
          "base_uri": "https://localhost:8080/",
          "height": 265
        },
        "id": "fNN_bmjVbBHk",
        "outputId": "139283c9-ef2b-4410-c5e6-fef3a34aacff"
      },
      "source": [
        "# 0 stands for id and 7 stands for ServiceId\n",
        "plt.scatter(f[:, 0], f[:, 7], c=\"blue\")\n",
        "plt.scatter(t[:, 0], t[:, 7], c=\"red\")\n",
        "plt.show()"
      ],
      "execution_count": null,
      "outputs": [
        {
          "output_type": "display_data",
          "data": {
            "image/png": "[encoded data removed]",
            "text/plain": [
              "<Figure size 432x288 with 1 Axes>"
            ]
          },
          "metadata": {
            "tags": [],
            "needs_background": "light"
          }
        }
      ]
    },
    {
      "cell_type": "markdown",
      "metadata": {
        "id": "ySkkiYlAeK1F"
      },
      "source": [
        "I can see a little density"
      ]
    },
    {
      "cell_type": "code",
      "metadata": {
        "colab": {
          "base_uri": "https://localhost:8080/",
          "height": 265
        },
        "id": "3nL_2FKlbBVx",
        "outputId": "f3e156a0-fcac-44f4-c6f8-77b93ddceafb"
      },
      "source": [
        "# 0 stands for id and 8 stands for CategoryId\n",
        "plt.scatter(f[:, 0], f[:, 8], c=\"blue\")\n",
        "plt.scatter(t[:, 0], t[:, 8], c=\"red\")\n",
        "plt.show()"
      ],
      "execution_count": null,
      "outputs": [
        {
          "output_type": "display_data",
          "data": {
            "image/png": "[encoded data removed]",
            "text/plain": [
              "<Figure size 432x288 with 1 Axes>"
            ]
          },
          "metadata": {
            "tags": [],
            "needs_background": "light"
          }
        }
      ]
    },
    {
      "cell_type": "markdown",
      "metadata": {
        "id": "TdV0JoExeeQT"
      },
      "source": [
        "Now I can see so much density"
      ]
    },
    {
      "cell_type": "code",
      "metadata": {
        "colab": {
          "base_uri": "https://localhost:8080/",
          "height": 265
        },
        "id": "SQ2eHo08bBjw",
        "outputId": "dd7e2dac-98cd-4007-f714-5a9e918726bc"
      },
      "source": [
        "# 0 stands for id and 9 stands for ZoneId\n",
        "plt.scatter(f[:, 0], f[:, 9], c=\"blue\")\n",
        "plt.scatter(t[:, 0], t[:, 9], c=\"red\")\n",
        "plt.show()"
      ],
      "execution_count": null,
      "outputs": [
        {
          "output_type": "display_data",
          "data": {
            "image/png": "[encoded data removed]",
            "text/plain": [
              "<Figure size 432x288 with 1 Axes>"
            ]
          },
          "metadata": {
            "tags": [],
            "needs_background": "light"
          }
        }
      ]
    },
    {
      "cell_type": "code",
      "metadata": {
        "colab": {
          "base_uri": "https://localhost:8080/",
          "height": 265
        },
        "id": "zKw6K9tWbCxE",
        "outputId": "41e8b199-3ff8-4cdb-9d31-9dfb636747ed"
      },
      "source": [
        "# 0 stands for id and 10 stands for TaskState\n",
        "plt.scatter(f[:, 0], f[:, 10], c=\"blue\")\n",
        "plt.scatter(t[:, 0], t[:, 10], c=\"red\")\n",
        "plt.show()"
      ],
      "execution_count": null,
      "outputs": [
        {
          "output_type": "display_data",
          "data": {
            "image/png": "[encoded data removed]",
            "text/plain": [
              "<Figure size 432x288 with 1 Axes>"
            ]
          },
          "metadata": {
            "tags": [],
            "needs_background": "light"
          }
        }
      ]
    },
    {
      "cell_type": "markdown",
      "metadata": {
        "id": "RUCu7JfVe7fH"
      },
      "source": [
        "Id is just a unique token given to each request so it most probably won't help us and I want to drop it also TaskState doesn't seem to help and I tend to drop it."
      ]
    },
    {
      "cell_type": "code",
      "metadata": {
        "id": "XX4qX8NTPMNR"
      },
      "source": [
        "# id ProId CustId TaskState\n",
        "X_train = a_del = np.delete(X_train, [0, 10], 1)\n",
        "X_test = np.delete(X_test, [0, 10], 1)"
      ],
      "execution_count": null,
      "outputs": []
    },
    {
      "cell_type": "markdown",
      "metadata": {
        "id": "7GqCDmC5mhk8"
      },
      "source": [
        "Well, as I said this is a fruad detection task and most of the labels should be False"
      ]
    },
    {
      "cell_type": "code",
      "metadata": {
        "colab": {
          "base_uri": "https://localhost:8080/"
        },
        "id": "y_l-zopcm_Yg",
        "outputId": "7c7aabd5-ef06-4e3d-d2c0-4385fc80aa35"
      },
      "source": [
        "print(np.bincount(Y_train))"
      ],
      "execution_count": null,
      "outputs": [
        {
          "output_type": "stream",
          "text": [
            "[18622  1262]\n"
          ],
          "name": "stdout"
        }
      ]
    },
    {
      "cell_type": "markdown",
      "metadata": {
        "id": "Tnd1JE3EnrAo"
      },
      "source": [
        "We should have a unit to measure how well each model works. As the dataset is imbalanced both precision and recall are important so we can use F-score or ROC_AUC.<br/>\n",
        "What will be the ROC_AUC if I predict every test sample as False?"
      ]
    },
    {
      "cell_type": "code",
      "metadata": {
        "colab": {
          "base_uri": "https://localhost:8080/"
        },
        "id": "OTK97b2XnjsK",
        "outputId": "94b4780f-082c-45da-e580-540175cffbef"
      },
      "source": [
        "from sklearn.metrics import roc_auc_score\n",
        "\n",
        "roc_auc_score(Y_test, np.full(Y_test.shape, False))"
      ],
      "execution_count": null,
      "outputs": [
        {
          "output_type": "execute_result",
          "data": {
            "text/plain": [
              "0.5"
            ]
          },
          "metadata": {
            "tags": []
          },
          "execution_count": 14
        }
      ]
    },
    {
      "cell_type": "markdown",
      "metadata": {
        "id": "UkxEunBMn1r9"
      },
      "source": [
        "So the models giving roc_auc more than 0.5 are resulting better probabilities than predicting just 100% False but may not label better at the end "
      ]
    },
    {
      "cell_type": "markdown",
      "metadata": {
        "id": "_U6DQ65v8Y1R"
      },
      "source": [
        "**SVM**"
      ]
    },
    {
      "cell_type": "code",
      "metadata": {
        "colab": {
          "base_uri": "https://localhost:8080/"
        },
        "id": "M9EAmJ2-5xXe",
        "outputId": "07e415bb-e8fa-4e69-e8e4-1107d8637af3"
      },
      "source": [
        "from sklearn.svm import LinearSVC\n",
        "from sklearn.metrics import accuracy_score, precision_score, recall_score, f1_score\n",
        "\n",
        "svm_clf = LinearSVC(C=1.95, class_weight='balanced') \n",
        "svm_clf.fit(X_train, Y_train)\n",
        "y_pred = svm_clf.predict(X_test)\n",
        "\n",
        "print(accuracy_score(Y_test, y_pred))\n",
        "print(precision_score(Y_test, y_pred))\n",
        "print(recall_score(Y_test, y_pred))\n",
        "print(f1_score(Y_test, y_pred))\n",
        "roc_auc_score(Y_test, y_pred)"
      ],
      "execution_count": null,
      "outputs": [
        {
          "output_type": "stream",
          "text": [
            "0.5902232951116475\n",
            "0.09741176470588235\n",
            "0.6349693251533742\n",
            "0.1689106487148103\n"
          ],
          "name": "stdout"
        },
        {
          "output_type": "stream",
          "text": [
            "/usr/local/lib/python3.7/dist-packages/sklearn/svm/_base.py:947: ConvergenceWarning: Liblinear failed to converge, increase the number of iterations.\n",
            "  \"the number of iterations.\", ConvergenceWarning)\n"
          ],
          "name": "stderr"
        },
        {
          "output_type": "execute_result",
          "data": {
            "text/plain": [
              "0.611026104987882"
            ]
          },
          "metadata": {
            "tags": []
          },
          "execution_count": 16
        }
      ]
    },
    {
      "cell_type": "markdown",
      "metadata": {
        "id": "88n6ul8B7OiT"
      },
      "source": [
        "**KNN**"
      ]
    },
    {
      "cell_type": "code",
      "metadata": {
        "colab": {
          "base_uri": "https://localhost:8080/"
        },
        "id": "KD0UMHWu7YUB",
        "outputId": "a291d9f0-673c-42aa-a920-bb0141e9e8bd"
      },
      "source": [
        "from sklearn.neighbors import KNeighborsClassifier\n",
        "\n",
        "knn = KNeighborsClassifier(n_neighbors=1, weights=\"distance\")\n",
        "knn.fit(X_train, Y_train)\n",
        "y_pred = knn.predict(X_test)\n",
        "\n",
        "print(accuracy_score(Y_test, y_pred))\n",
        "print(precision_score(Y_test, y_pred))\n",
        "print(recall_score(Y_test, y_pred))\n",
        "print(f1_score(Y_test, y_pred))\n",
        "roc_auc_score(Y_test, y_pred)"
      ],
      "execution_count": null,
      "outputs": [
        {
          "output_type": "stream",
          "text": [
            "0.895996781331724\n",
            "0.20249221183800623\n",
            "0.19938650306748465\n",
            "0.20092735703245748\n"
          ],
          "name": "stdout"
        },
        {
          "output_type": "execute_result",
          "data": {
            "text/plain": [
              "0.5721367391548402"
            ]
          },
          "metadata": {
            "tags": []
          },
          "execution_count": 17
        }
      ]
    },
    {
      "cell_type": "markdown",
      "metadata": {
        "id": "x_vX3DS78m-i"
      },
      "source": [
        "**Decision Tree**"
      ]
    },
    {
      "cell_type": "code",
      "metadata": {
        "colab": {
          "base_uri": "https://localhost:8080/"
        },
        "id": "mYRfC6BR8xNT",
        "outputId": "128c7fef-eb16-455f-8981-5ebb5b2be218"
      },
      "source": [
        "from sklearn.tree import DecisionTreeClassifier\n",
        "from sklearn.model_selection import GridSearchCV\n",
        "\n",
        "param_grid = [\n",
        "              {'criterion': ['gini', 'entropy'],\n",
        "               'max_depth': [4, 6]}\n",
        "]\n",
        "\n",
        "tree_clf = DecisionTreeClassifier(class_weight='balanced')\n",
        "grid_search = GridSearchCV(tree_clf, param_grid, cv=5, scoring='roc_auc')\n",
        "grid_search.fit(X_train, Y_train)\n",
        "print(grid_search.best_params_)\n",
        "y_pred = grid_search.predict(X_test)\n",
        "\n",
        "print(accuracy_score(Y_test, y_pred))\n",
        "print(precision_score(Y_test, y_pred))\n",
        "print(recall_score(Y_test, y_pred))\n",
        "print(f1_score(Y_test, y_pred))\n",
        "roc_auc_score(Y_test, y_pred)"
      ],
      "execution_count": null,
      "outputs": [
        {
          "output_type": "stream",
          "text": [
            "{'criterion': 'gini', 'max_depth': 4}\n",
            "0.8390665861999598\n",
            "0.1409090909090909\n",
            "0.2852760736196319\n",
            "0.18864097363083163\n"
          ],
          "name": "stdout"
        },
        {
          "output_type": "execute_result",
          "data": {
            "text/plain": [
              "0.5816046675956071"
            ]
          },
          "metadata": {
            "tags": []
          },
          "execution_count": 18
        }
      ]
    },
    {
      "cell_type": "markdown",
      "metadata": {
        "id": "ZjMgoLFj88xL"
      },
      "source": [
        "**Logistic Regression**"
      ]
    },
    {
      "cell_type": "code",
      "metadata": {
        "colab": {
          "base_uri": "https://localhost:8080/"
        },
        "id": "2l2_pgy_CG8o",
        "outputId": "5f8c591a-adbb-4d5c-cc77-d91b9d767f01"
      },
      "source": [
        "from sklearn.linear_model import LogisticRegression\n",
        "\n",
        "param_grid = [\n",
        "              {'C': [2, 3, 4],\n",
        "               'solver': ['lbfgs', 'liblinear']}\n",
        "]\n",
        "\n",
        "log_reg = LogisticRegression(class_weight='balanced', random_state=42)\n",
        "grid_search = GridSearchCV(log_reg, param_grid, cv=5, scoring='roc_auc')\n",
        "grid_search.fit(X_train, Y_train)\n",
        "print(grid_search.best_params_)\n",
        "y_pred = grid_search.predict(X_test)\n",
        "\n",
        "print(accuracy_score(Y_test, y_pred))\n",
        "print(precision_score(Y_test, y_pred))\n",
        "print(recall_score(Y_test, y_pred))\n",
        "print(f1_score(Y_test, y_pred))\n",
        "roc_auc_score(Y_test, y_pred)"
      ],
      "execution_count": null,
      "outputs": [
        {
          "output_type": "stream",
          "text": [
            "{'C': 3, 'solver': 'liblinear'}\n",
            "0.5656809495071414\n",
            "0.09320905459387484\n",
            "0.6441717791411042\n",
            "0.16285381930981002\n"
          ],
          "name": "stdout"
        },
        {
          "output_type": "execute_result",
          "data": {
            "text/plain": [
              "0.6021720036717362"
            ]
          },
          "metadata": {
            "tags": []
          },
          "execution_count": 19
        }
      ]
    },
    {
      "cell_type": "markdown",
      "metadata": {
        "id": "j4mKoJjlbFqQ"
      },
      "source": [
        "**Neural Network**"
      ]
    },
    {
      "cell_type": "markdown",
      "metadata": {
        "id": "6ik9-XTMD6GR"
      },
      "source": [
        "Building a neural network that performs well is usually a hard task and most of the time we use other researcher's networks but let's just give it a try."
      ]
    },
    {
      "cell_type": "code",
      "metadata": {
        "colab": {
          "base_uri": "https://localhost:8080/"
        },
        "id": "e_ovo0YnC6lp",
        "outputId": "ef38e3c4-8411-47bc-c374-f03a3b65565b"
      },
      "source": [
        "from tensorflow import keras\n",
        "import tensorflow as tf\n",
        "\n",
        "model = keras.models.Sequential([\n",
        "    keras.layers.Dense(12, activation=\"relu\", input_shape=X_train.shape[1:]),\n",
        "    keras.layers.Dense(5, activation=\"relu\"),\n",
        "    keras.layers.Dense(2, activation=\"sigmoid\")\n",
        "])\n",
        "\n",
        "model.compile(loss=\"binary_crossentropy\", optimizer=\"sgd\", metrics=[tf.keras.metrics.AUC()])\n",
        "history = model.fit(X_train, keras.utils.to_categorical(Y_train.to_numpy()), epochs=5)\n",
        "y_pred = model.predict_classes(X_test)\n",
        "\n",
        "print(accuracy_score(Y_test, y_pred))\n",
        "print(precision_score(Y_test, y_pred))\n",
        "print(recall_score(Y_test, y_pred))\n",
        "print(f1_score(Y_test, y_pred))\n",
        "roc_auc_score(Y_test, y_pred)"
      ],
      "execution_count": null,
      "outputs": [
        {
          "output_type": "stream",
          "text": [
            "Epoch 1/5\n",
            "622/622 [==============================] - 5s 4ms/step - loss: 0.5249 - auc: 0.9136\n",
            "Epoch 2/5\n",
            "622/622 [==============================] - 3s 4ms/step - loss: 0.2584 - auc: 0.9428\n",
            "Epoch 3/5\n",
            "622/622 [==============================] - 3s 4ms/step - loss: 0.2422 - auc: 0.9439\n",
            "Epoch 4/5\n",
            "622/622 [==============================] - 3s 4ms/step - loss: 0.2340 - auc: 0.9494\n",
            "Epoch 5/5\n",
            "622/622 [==============================] - 3s 4ms/step - loss: 0.2250 - auc: 0.9512\n"
          ],
          "name": "stdout"
        },
        {
          "output_type": "stream",
          "text": [
            "/usr/local/lib/python3.7/dist-packages/tensorflow/python/keras/engine/sequential.py:450: UserWarning: `model.predict_classes()` is deprecated and will be removed after 2021-01-01. Please use instead:* `np.argmax(model.predict(x), axis=-1)`,   if your model does multi-class classification   (e.g. if it uses a `softmax` last-layer activation).* `(model.predict(x) > 0.5).astype(\"int32\")`,   if your model does binary classification   (e.g. if it uses a `sigmoid` last-layer activation).\n",
            "  warnings.warn('`model.predict_classes()` is deprecated and '\n"
          ],
          "name": "stderr"
        },
        {
          "output_type": "stream",
          "text": [
            "0.9344196338764836\n",
            "0.0\n",
            "0.0\n",
            "0.0\n"
          ],
          "name": "stdout"
        },
        {
          "output_type": "stream",
          "text": [
            "/usr/local/lib/python3.7/dist-packages/sklearn/metrics/_classification.py:1272: UndefinedMetricWarning: Precision is ill-defined and being set to 0.0 due to no predicted samples. Use `zero_division` parameter to control this behavior.\n",
            "  _warn_prf(average, modifier, msg_start, len(result))\n"
          ],
          "name": "stderr"
        },
        {
          "output_type": "execute_result",
          "data": {
            "text/plain": [
              "0.5"
            ]
          },
          "metadata": {
            "tags": []
          },
          "execution_count": 24
        }
      ]
    },
    {
      "cell_type": "markdown",
      "metadata": {
        "id": "3fwP8T_rGPQS"
      },
      "source": [
        "The results are fraustrating, I want to test another approach, let's forget about the labels in the trining phase, I try to fit some guassian distributions on the training data with label False and then the test data which is placed in a low density will be considered as fraud "
      ]
    },
    {
      "cell_type": "code",
      "metadata": {
        "colab": {
          "base_uri": "https://localhost:8080/",
          "height": 384
        },
        "id": "VLFr1IrdOvrH",
        "outputId": "6d9fd65d-c15b-45c2-8d2c-49e22316b482"
      },
      "source": [
        "from sklearn.mixture import GaussianMixture\n",
        "\n",
        "real_data = X_train[Y_train == False]\n",
        "n = range(30, 36)\n",
        "bic = np.zeros(6)\n",
        "\n",
        "for i,j in enumerate(n):\n",
        "    print(i)\n",
        "    gmm = GaussianMixture(n_components=j, n_init=5)\n",
        "    gmm.fit(real_data)\n",
        "    bic[i] = gmm.bic(real_data)\n",
        "\n",
        "plt.scatter(n, bic)\n",
        "plt.show"
      ],
      "execution_count": null,
      "outputs": [
        {
          "output_type": "stream",
          "text": [
            "0\n",
            "1\n",
            "2\n",
            "3\n",
            "4\n",
            "5\n"
          ],
          "name": "stdout"
        },
        {
          "output_type": "execute_result",
          "data": {
            "text/plain": [
              "<function matplotlib.pyplot.show>"
            ]
          },
          "metadata": {
            "tags": []
          },
          "execution_count": 28
        },
        {
          "output_type": "display_data",
          "data": {
            "image/png": "[encoded data removed]",
            "text/plain": [
              "<Figure size 432x288 with 1 Axes>"
            ]
          },
          "metadata": {
            "tags": [],
            "needs_background": "light"
          }
        }
      ]
    },
    {
      "cell_type": "markdown",
      "metadata": {
        "id": "54CBfE4gHeL6"
      },
      "source": [
        "Considering the above plot I put number of distributions to 34."
      ]
    },
    {
      "cell_type": "code",
      "metadata": {
        "colab": {
          "base_uri": "https://localhost:8080/"
        },
        "id": "ajE8js9UIQxs",
        "outputId": "081eefc2-eb68-425b-dc7e-c09f943b8584"
      },
      "source": [
        "gm = GaussianMixture(n_components=34, n_init=10)\n",
        "gm.fit(real_data)\n",
        "\n",
        "densities = gm.score_samples(real_data)\n",
        "density_threshold = np.percentile(densities, 5)\n",
        "densities = gm.score_samples(X_test)\n",
        "\n",
        "y_pred = np.array([densities < density_threshold])\n",
        "y_pred = y_pred.reshape(-1, 1)\n",
        "\n",
        "print(accuracy_score(Y_test, y_pred))\n",
        "print(precision_score(Y_test, y_pred))\n",
        "print(recall_score(Y_test, y_pred))\n",
        "print(f1_score(Y_test, y_pred))\n",
        "roc_auc_score(Y_test, y_pred)"
      ],
      "execution_count": null,
      "outputs": [
        {
          "output_type": "stream",
          "text": [
            "0.8871454435727217\n",
            "0.09897610921501707\n",
            "0.08895705521472393\n",
            "0.09369951534733441\n"
          ],
          "name": "stdout"
        },
        {
          "output_type": "execute_result",
          "data": {
            "text/plain": [
              "0.5160608742166192"
            ]
          },
          "metadata": {
            "tags": []
          },
          "execution_count": 29
        }
      ]
    },
    {
      "cell_type": "markdown",
      "metadata": {
        "id": "5ly03vnYPXDn"
      },
      "source": [
        "Let's use oversampling/undersapmling to balance the data"
      ]
    },
    {
      "cell_type": "code",
      "metadata": {
        "colab": {
          "base_uri": "https://localhost:8080/"
        },
        "id": "u8n_O3WIS40l",
        "outputId": "83c83b75-53e4-4317-c033-b4eac386569b"
      },
      "source": [
        "# decision tree  on imbalanced dataset with SMOTE oversampling and random undersampling\n",
        "from sklearn.datasets import make_classification\n",
        "from sklearn.tree import DecisionTreeClassifier\n",
        "from imblearn.pipeline import Pipeline\n",
        "from imblearn.over_sampling import BorderlineSMOTE\n",
        "from imblearn.under_sampling import RandomUnderSampler\n",
        "\n",
        "# define pipeline\n",
        "over = BorderlineSMOTE(sampling_strategy=0.2, k_neighbors=4)\n",
        "under = RandomUnderSampler(sampling_strategy=0.9)\n",
        "steps = [('over', over), ('under', under)]\n",
        "pipeline = Pipeline(steps=steps)\n",
        "X_train, Y_train = pipeline.fit_resample(X_train, Y_train)\n",
        "\n",
        "tree_clf = DecisionTreeClassifier()\n",
        "tree_clf.fit(X_train, Y_train)\n",
        "y_pred = tree_clf.predict(X_test)\n",
        "\n",
        "print(accuracy_score(Y_test, y_pred))\n",
        "print(precision_score(Y_test, y_pred))\n",
        "print(recall_score(Y_test, y_pred))\n",
        "print(f1_score(Y_test, y_pred))\n",
        "roc_auc_score(Y_test, y_pred)"
      ],
      "execution_count": null,
      "outputs": [
        {
          "output_type": "stream",
          "text": [
            "0.7923958961979481\n",
            "0.09893617021276596\n",
            "0.3345323741007194\n",
            "0.15270935960591134\n"
          ],
          "name": "stdout"
        },
        {
          "output_type": "execute_result",
          "data": {
            "text/plain": [
              "0.5770254029037585"
            ]
          },
          "metadata": {
            "tags": []
          },
          "execution_count": 16
        }
      ]
    },
    {
      "cell_type": "markdown",
      "metadata": {
        "id": "_fvTsqbIpNEz"
      },
      "source": [
        "Old video from andrew Ng"
      ]
    },
    {
      "cell_type": "code",
      "metadata": {
        "colab": {
          "base_uri": "https://localhost:8080/",
          "height": 514
        },
        "id": "eiVlCQuyp6Rs",
        "outputId": "d2b70d3f-de47-415f-a93e-7ce44f0fd9d8"
      },
      "source": [
        "import numpy as np\n",
        "import matplotlib.mlab as mlab\n",
        "import matplotlib.pyplot as plt\n",
        "\n",
        "num_bins = 100\n",
        "n, bins, patches = plt.hist(f[:, 3], num_bins, facecolor='blue', alpha=0.2)\n",
        "plt.show()\n",
        "n, bins, patches = plt.hist(t[:, 3], num_bins, facecolor='blue', alpha=0.2)\n",
        "plt.show()"
      ],
      "execution_count": null,
      "outputs": [
        {
          "output_type": "display_data",
          "data": {
            "image/png": "[encoded data removed]",
            "text/plain": [
              "<Figure size 432x288 with 1 Axes>"
            ]
          },
          "metadata": {
            "tags": [],
            "needs_background": "light"
          }
        },
        {
          "output_type": "display_data",
          "data": {
            "image/png": "[encoded data removed]",
            "text/plain": [
              "<Figure size 432x288 with 1 Axes>"
            ]
          },
          "metadata": {
            "tags": [],
            "needs_background": "light"
          }
        }
      ]
    },
    {
      "cell_type": "markdown",
      "metadata": {
        "id": "NJ2KakbQkbsD"
      },
      "source": [
        "I haven't still reached a good performance but I have no more time and should share the link for Rahnama college challenge"
      ]
    }
  ]
}